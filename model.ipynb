{
 "cells": [
  {
   "cell_type": "code",
   "execution_count": null,
   "metadata": {},
   "outputs": [
    {
     "ename": "",
     "evalue": "",
     "output_type": "error",
     "traceback": [
      "\u001b[1;31mRunning cells with '.venv (Python 3.12.3)' requires the ipykernel package.\n",
      "\u001b[1;31mInstall 'ipykernel' into the Python environment. \n",
      "\u001b[1;31mCommand: '/home/bonnie/Desktop/AI/AI-mini-project/.venv/bin/python -m pip install ipykernel -U --force-reinstall'"
     ]
    }
   ],
   "source": [
    "import pandas as pd\n",
    "import numpy as np\n",
    "import matplotlib.pyplot as plt\n",
    "from sklearn.model_selection import train_test_split\n",
    "from sklearn.metrics import accuracy_score, classification_report, confusion_matrix\n",
    "from sklearn.tree import DecisionTreeClassifier\n",
    "from sklearn.ensemble import RandomForestClassifier\n",
    "from sklearn.svm import SVC\n",
    "from sklearn.neighbors import KNeighborsClassifier\n",
    "from sklearn.naive_bayes import GaussianNB\n",
    "from sklearn.linear_model import LogisticRegression\n",
    "from sklearn.preprocessing import LabelEncoder\n",
    "import pickle as pkl\n",
    "\n",
    "df = pd.read_csv('breast_cancer_self_check_data.csv')\n",
    "\n",
    "print(\"done ...\")"
   ]
  },
  {
   "cell_type": "code",
   "execution_count": null,
   "metadata": {},
   "outputs": [],
   "source": [
    "df.describe()"
   ]
  },
  {
   "cell_type": "code",
   "execution_count": null,
   "metadata": {},
   "outputs": [],
   "source": [
    "df.info()"
   ]
  },
  {
   "cell_type": "markdown",
   "metadata": {},
   "source": [
    "# DATA CLEANING & FEATURE ENGINEERING"
   ]
  },
  {
   "cell_type": "code",
   "execution_count": null,
   "metadata": {},
   "outputs": [],
   "source": [
    "encoder = LabelEncoder()\n",
    "\n",
    "df['PhysicalActivity'] = encoder.fit_transform(df['physical_activity'])\n",
    "df = df.drop(columns=['physical_activity'],axis=1)\n",
    "\n",
    "df.head()"
   ]
  },
  {
   "cell_type": "code",
   "execution_count": null,
   "metadata": {},
   "outputs": [],
   "source": [
    "df['mammogram_recency'] = (\n",
    "    (pd.to_datetime('today') - pd.to_datetime(df['last_mammogram']))\n",
    "    .dt.days / 365.25   # convert days to years\n",
    ")\n",
    "df['mammogram_recency'] = np.trunc(df['mammogram_recency'])  # Truncate decimals\n",
    "df['mammogram_recency'].fillna(-1, inplace=True)  # -1 for no history\n",
    "\n",
    "df = df.drop(columns=['last_mammogram'],axis=1)\n",
    "\n",
    "df.head(20)"
   ]
  },
  {
   "cell_type": "code",
   "execution_count": null,
   "metadata": {},
   "outputs": [],
   "source": [
    "x = df.drop(columns=['diagnosis'],axis=1)\n",
    "y = df['diagnosis']"
   ]
  },
  {
   "cell_type": "code",
   "execution_count": null,
   "metadata": {},
   "outputs": [],
   "source": [
    "X_train, X_test, Y_train, Y_test = train_test_split(x, y, test_size=0.2, random_state=42)\n",
    "X_train.shape"
   ]
  },
  {
   "cell_type": "code",
   "execution_count": null,
   "metadata": {},
   "outputs": [],
   "source": [
    "X_test.shape"
   ]
  },
  {
   "cell_type": "code",
   "execution_count": null,
   "metadata": {},
   "outputs": [],
   "source": [
    "from sklearn.preprocessing import StandardScaler\n",
    "\n",
    "scaler = StandardScaler()\n",
    "X_train = scaler.fit_transform(X_train)\n",
    "X_test = scaler.transform(X_test)"
   ]
  },
  {
   "cell_type": "markdown",
   "metadata": {},
   "source": [
    "# DATA VISUALIZATION"
   ]
  },
  {
   "cell_type": "code",
   "execution_count": null,
   "metadata": {},
   "outputs": [],
   "source": [
    "# Count of diagnosis==1 per age\n",
    "age_counts = df[df['diagnosis'] == 1]['age'].value_counts().sort_index()\n",
    "plt.bar(age_counts.index, age_counts.values, color='red')\n",
    "plt.xlabel('age')\n",
    "plt.ylabel('count of diagnosis==1')\n",
    "plt.title('Count of Positive cases by Age')\n",
    "plt.show()"
   ]
  },
  {
   "cell_type": "markdown",
   "metadata": {},
   "source": [
    "from the figure we can tell that ages 20 - around 47 are least affected but ages above are mostly afected"
   ]
  },
  {
   "cell_type": "code",
   "execution_count": null,
   "metadata": {},
   "outputs": [],
   "source": [
    "# Count of diagnosis==1 per age\n",
    "age_counts = df[df['diagnosis'] == 0]['age'].value_counts().sort_index()\n",
    "plt.bar(age_counts.index, age_counts.values, color='green')\n",
    "plt.xlabel('age')\n",
    "plt.ylabel('count of diagnosis==0')\n",
    "plt.title('Count of Normal/not affected by Age')\n",
    "plt.show()"
   ]
  },
  {
   "cell_type": "markdown",
   "metadata": {},
   "source": []
  },
  {
   "cell_type": "markdown",
   "metadata": {},
   "source": [
    "From the figure we can tell that ages between 20 - 60 normal and the numbers keeps decreasing as the age increases"
   ]
  },
  {
   "cell_type": "code",
   "execution_count": null,
   "metadata": {},
   "outputs": [],
   "source": [
    "# Count of diagnosis==1 per age\n",
    "age_counts = df[df['diagnosis'] == 2]['age'].value_counts().sort_index()\n",
    "plt.bar(age_counts.index, age_counts.values, color='blue')\n",
    "plt.xlabel('age')\n",
    "plt.ylabel('count of diagnosis==2')\n",
    "plt.title('Count of At Risk by Age')\n",
    "plt.show()"
   ]
  },
  {
   "cell_type": "markdown",
   "metadata": {},
   "source": [
    "We can tell the ages below 40 are least at risk but the numbers incease as age increases"
   ]
  },
  {
   "cell_type": "markdown",
   "metadata": {},
   "source": [
    "# Modeling"
   ]
  },
  {
   "cell_type": "code",
   "execution_count": null,
   "metadata": {},
   "outputs": [],
   "source": [
    "# initializing the models\n",
    "\n",
    "decision_tree = DecisionTreeClassifier()\n",
    "random_forest = RandomForestClassifier(random_state=21)\n",
    "svc = SVC()\n",
    "neighbors = KNeighborsClassifier()\n",
    "naive = GaussianNB()\n",
    "logistic = LogisticRegression()"
   ]
  },
  {
   "cell_type": "code",
   "execution_count": null,
   "metadata": {},
   "outputs": [],
   "source": [
    "decision_tree.fit(X_train, Y_train)\n",
    "random_forest.fit(X_train, Y_train)\n",
    "svc.fit(X_train, Y_train)\n",
    "neighbors.fit(X_train, Y_train)\n",
    "naive.fit(X_train, Y_train)\n",
    "logistic.fit(X_train, Y_train)"
   ]
  },
  {
   "cell_type": "code",
   "execution_count": null,
   "metadata": {},
   "outputs": [],
   "source": [
    "def runtest():\n",
    "    decision_pred = decision_tree.predict(X_test)\n",
    "    decision_acc = accuracy_score(Y_test, decision_pred)\n",
    "    print(f'Decision tree : {decision_acc}')\n",
    "\n",
    "    svc_pred = svc.predict(X_test)\n",
    "    svc_acc = accuracy_score(Y_test, svc_pred)\n",
    "    print(f'SVC : {svc_acc}')\n",
    "\n",
    "    random_pred = random_forest.predict(X_test)\n",
    "    random_acc = accuracy_score(Y_test, random_pred)\n",
    "    print(f'Random Forest : {accuracy_score(Y_test, random_pred)}')\n",
    "\n",
    "    neighbor_pred = neighbors.predict(X_test)\n",
    "    neighbor_acc = accuracy_score(Y_test, neighbor_pred)\n",
    "    print(f'K Nearest : {accuracy_score(Y_test, neighbor_pred)}')\n",
    "\n",
    "    naive_pred = naive.predict(X_test)\n",
    "    naive_acc = accuracy_score(Y_test, naive_pred)\n",
    "    print(f'Naive Bayes : {accuracy_score(Y_test, naive_pred)}')\n",
    "\n",
    "    logistic_pred = logistic.predict(X_test)\n",
    "    logistic_acc = accuracy_score(Y_test, logistic_pred)\n",
    "    print(f'Logistic Regression : {logistic_acc}')\n",
    "\n",
    "    # Bar chart of model accuracies\n",
    "    models = ['Decision Tree', 'SVC', 'Random Forest', 'K Nearest', 'Naive Bayes', 'Logistic Regression']\n",
    "    accuracies = [decision_acc, svc_acc, random_acc, neighbor_acc, naive_acc, logistic_acc ]\n",
    "    plt.figure(figsize=(8, 5))\n",
    "    bars = plt.bar(models, accuracies, color=['orange', 'blue', 'green', 'purple', 'red', 'cyan'])\n",
    "    plt.ylim(0, 1)\n",
    "    plt.ylabel('Accuracy Score')\n",
    "    plt.title('Model Accuracy Comparison')\n",
    "    plt.grid(axis='y', linestyle='--', alpha=0.7)\n",
    "\n",
    "    for bar, acc in zip(bars, accuracies):\n",
    "        plt.text(bar.get_x() + bar.get_width() / 2, bar.get_height() + 0.01, f'{acc:.3f}', ha='center', va='bottom')\n",
    "\n",
    "    plt.show()\n",
    "\n",
    "    model = \"self_check_breast_cancer_model.pkl\"\n",
    "    with open(model, 'wb') as file:\n",
    "        pkl.dump(svc, file)\n",
    "\n",
    "\n",
    "runtest()"
   ]
  },
  {
   "cell_type": "code",
   "execution_count": null,
   "metadata": {},
   "outputs": [],
   "source": []
  }
 ],
 "metadata": {
  "kernelspec": {
   "display_name": "Python 3",
   "language": "python",
   "name": "python3"
  },
  "language_info": {
   "codemirror_mode": {
    "name": "ipython",
    "version": 3
   },
   "file_extension": ".py",
   "mimetype": "text/x-python",
   "name": "python",
   "nbconvert_exporter": "python",
   "pygments_lexer": "ipython3",
   "version": "3.12.3"
  }
 },
 "nbformat": 4,
 "nbformat_minor": 2
}
